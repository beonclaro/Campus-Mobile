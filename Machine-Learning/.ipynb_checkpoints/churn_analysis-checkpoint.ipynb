{
 "cells": [
  {
   "cell_type": "markdown",
   "metadata": {},
   "source": [
    "# Data Science Rocks - Machine Learning - Churn Analysis \n",
    "by Feliphe Galiza (feliphe.ggaliza@gmail.com) - https://br.linkedin.com/in/feliphegoncalves"
   ]
  },
  {
   "cell_type": "code",
   "execution_count": 1,
   "metadata": {},
   "outputs": [
    {
     "name": "stdout",
     "output_type": "stream",
     "text": [
      "Python 3.6.5 :: Intel Corporation\r\n"
     ]
    }
   ],
   "source": [
    "!python -V"
   ]
  },
  {
   "cell_type": "markdown",
   "metadata": {},
   "source": [
    "Set export MKL_VERBOSE=1. This function enables or disables the Intel MKL Verbose mode, in which computational functions print call description information. More info at https://software.intel.com/en-us/mkl"
   ]
  },
  {
   "cell_type": "code",
   "execution_count": 2,
   "metadata": {},
   "outputs": [],
   "source": [
    "!export MKL_VERBOSE=1"
   ]
  },
  {
   "cell_type": "markdown",
   "metadata": {},
   "source": [
    "# Churn Analysis using Scikit-Learn and Intel Python Distribution\n",
    "\n",
    "In this demo our goal is to predict if a customer will churn or not based on past data. Furthermore, we will compute the probability of a given customer stop using the product.\n",
    "\n",
    "![title](churn.png)\n"
   ]
  },
  {
   "cell_type": "markdown",
   "metadata": {},
   "source": [
    "### Importing tools"
   ]
  },
  {
   "cell_type": "code",
   "execution_count": 3,
   "metadata": {},
   "outputs": [],
   "source": [
    "import pandas as pd \n",
    "from sklearn.model_selection import train_test_split\n",
    "from sklearn.ensemble import RandomForestClassifier\n",
    "from sklearn.neighbors import KNeighborsClassifier\n",
    "from sklearn.svm import SVC\n",
    "from sklearn.metrics import confusion_matrix\n",
    "from sklearn.metrics import roc_curve\n",
    "import matplotlib\n",
    "import matplotlib.pyplot as plt\n",
    "import numpy as np\n",
    "from IPython.display import display, HTML"
   ]
  },
  {
   "cell_type": "markdown",
   "metadata": {},
   "source": [
    "### Reading dataset"
   ]
  },
  {
   "cell_type": "code",
   "execution_count": 4,
   "metadata": {},
   "outputs": [],
   "source": [
    "DATASET_CSV = \"../../data/Churn.csv\""
   ]
  },
  {
   "cell_type": "code",
   "execution_count": 5,
   "metadata": {},
   "outputs": [],
   "source": [
    "df = pd.read_csv(DATASET_CSV)"
   ]
  },
  {
   "cell_type": "markdown",
   "metadata": {},
   "source": [
    "### Exploratory Analysis\n",
    "This step is very important for any Machine Learning or Deep Learning task. You have to look at your data in order to better understand it. The data may need some adjusts in order to improve the AI algorithm performance, sometimes preprocessing is also needed."
   ]
  },
  {
   "cell_type": "code",
   "execution_count": 6,
   "metadata": {},
   "outputs": [
    {
     "data": {
      "text/html": [
       "<div>\n",
       "<style scoped>\n",
       "    .dataframe tbody tr th:only-of-type {\n",
       "        vertical-align: middle;\n",
       "    }\n",
       "\n",
       "    .dataframe tbody tr th {\n",
       "        vertical-align: top;\n",
       "    }\n",
       "\n",
       "    .dataframe thead th {\n",
       "        text-align: right;\n",
       "    }\n",
       "</style>\n",
       "<table border=\"1\" class=\"dataframe\">\n",
       "  <thead>\n",
       "    <tr style=\"text-align: right;\">\n",
       "      <th></th>\n",
       "      <th>intl_plan</th>\n",
       "      <th>voice_mail_plan</th>\n",
       "      <th>number_vmail_messages</th>\n",
       "      <th>total_day_minutes</th>\n",
       "      <th>total_day_calls</th>\n",
       "      <th>total_day_charge</th>\n",
       "      <th>total_eve_minutes</th>\n",
       "      <th>total_eve_calls</th>\n",
       "      <th>total_eve_charge</th>\n",
       "      <th>total_night_minutes</th>\n",
       "      <th>total_night_calls</th>\n",
       "      <th>total_night_charge</th>\n",
       "      <th>total_intl_minutes</th>\n",
       "      <th>total_intl_calls</th>\n",
       "      <th>total_intl_charge</th>\n",
       "      <th>number_customer_service_calls</th>\n",
       "      <th>churned</th>\n",
       "    </tr>\n",
       "  </thead>\n",
       "  <tbody>\n",
       "    <tr>\n",
       "      <th>0</th>\n",
       "      <td>0.0</td>\n",
       "      <td>1.0</td>\n",
       "      <td>25.0</td>\n",
       "      <td>265.1</td>\n",
       "      <td>110.0</td>\n",
       "      <td>45.07</td>\n",
       "      <td>197.4</td>\n",
       "      <td>99.0</td>\n",
       "      <td>16.78</td>\n",
       "      <td>244.7</td>\n",
       "      <td>91.0</td>\n",
       "      <td>11.01</td>\n",
       "      <td>10.0</td>\n",
       "      <td>3.0</td>\n",
       "      <td>2.70</td>\n",
       "      <td>1.0</td>\n",
       "      <td>False</td>\n",
       "    </tr>\n",
       "    <tr>\n",
       "      <th>1</th>\n",
       "      <td>0.0</td>\n",
       "      <td>1.0</td>\n",
       "      <td>26.0</td>\n",
       "      <td>161.6</td>\n",
       "      <td>123.0</td>\n",
       "      <td>27.47</td>\n",
       "      <td>195.5</td>\n",
       "      <td>103.0</td>\n",
       "      <td>16.62</td>\n",
       "      <td>254.4</td>\n",
       "      <td>103.0</td>\n",
       "      <td>NaN</td>\n",
       "      <td>NaN</td>\n",
       "      <td>3.0</td>\n",
       "      <td>3.70</td>\n",
       "      <td>1.0</td>\n",
       "      <td>False</td>\n",
       "    </tr>\n",
       "    <tr>\n",
       "      <th>2</th>\n",
       "      <td>0.0</td>\n",
       "      <td>0.0</td>\n",
       "      <td>0.0</td>\n",
       "      <td>243.4</td>\n",
       "      <td>114.0</td>\n",
       "      <td>41.38</td>\n",
       "      <td>121.2</td>\n",
       "      <td>NaN</td>\n",
       "      <td>10.30</td>\n",
       "      <td>162.6</td>\n",
       "      <td>104.0</td>\n",
       "      <td>7.32</td>\n",
       "      <td>12.2</td>\n",
       "      <td>5.0</td>\n",
       "      <td>3.29</td>\n",
       "      <td>0.0</td>\n",
       "      <td>False</td>\n",
       "    </tr>\n",
       "    <tr>\n",
       "      <th>3</th>\n",
       "      <td>1.0</td>\n",
       "      <td>0.0</td>\n",
       "      <td>0.0</td>\n",
       "      <td>299.4</td>\n",
       "      <td>NaN</td>\n",
       "      <td>50.90</td>\n",
       "      <td>61.9</td>\n",
       "      <td>88.0</td>\n",
       "      <td>5.26</td>\n",
       "      <td>NaN</td>\n",
       "      <td>89.0</td>\n",
       "      <td>8.86</td>\n",
       "      <td>6.6</td>\n",
       "      <td>7.0</td>\n",
       "      <td>1.78</td>\n",
       "      <td>2.0</td>\n",
       "      <td>False</td>\n",
       "    </tr>\n",
       "    <tr>\n",
       "      <th>4</th>\n",
       "      <td>1.0</td>\n",
       "      <td>0.0</td>\n",
       "      <td>0.0</td>\n",
       "      <td>166.7</td>\n",
       "      <td>113.0</td>\n",
       "      <td>28.34</td>\n",
       "      <td>148.3</td>\n",
       "      <td>122.0</td>\n",
       "      <td>12.61</td>\n",
       "      <td>186.9</td>\n",
       "      <td>121.0</td>\n",
       "      <td>8.41</td>\n",
       "      <td>10.1</td>\n",
       "      <td>3.0</td>\n",
       "      <td>2.73</td>\n",
       "      <td>3.0</td>\n",
       "      <td>False</td>\n",
       "    </tr>\n",
       "    <tr>\n",
       "      <th>5</th>\n",
       "      <td>1.0</td>\n",
       "      <td>0.0</td>\n",
       "      <td>0.0</td>\n",
       "      <td>NaN</td>\n",
       "      <td>98.0</td>\n",
       "      <td>37.98</td>\n",
       "      <td>220.6</td>\n",
       "      <td>101.0</td>\n",
       "      <td>18.75</td>\n",
       "      <td>203.9</td>\n",
       "      <td>118.0</td>\n",
       "      <td>9.18</td>\n",
       "      <td>6.3</td>\n",
       "      <td>6.0</td>\n",
       "      <td>1.70</td>\n",
       "      <td>0.0</td>\n",
       "      <td>False</td>\n",
       "    </tr>\n",
       "    <tr>\n",
       "      <th>6</th>\n",
       "      <td>0.0</td>\n",
       "      <td>NaN</td>\n",
       "      <td>24.0</td>\n",
       "      <td>218.2</td>\n",
       "      <td>88.0</td>\n",
       "      <td>NaN</td>\n",
       "      <td>348.5</td>\n",
       "      <td>108.0</td>\n",
       "      <td>29.62</td>\n",
       "      <td>212.6</td>\n",
       "      <td>118.0</td>\n",
       "      <td>9.57</td>\n",
       "      <td>7.5</td>\n",
       "      <td>7.0</td>\n",
       "      <td>2.03</td>\n",
       "      <td>3.0</td>\n",
       "      <td>False</td>\n",
       "    </tr>\n",
       "    <tr>\n",
       "      <th>7</th>\n",
       "      <td>1.0</td>\n",
       "      <td>0.0</td>\n",
       "      <td>0.0</td>\n",
       "      <td>157.0</td>\n",
       "      <td>79.0</td>\n",
       "      <td>26.69</td>\n",
       "      <td>103.1</td>\n",
       "      <td>94.0</td>\n",
       "      <td>8.76</td>\n",
       "      <td>211.8</td>\n",
       "      <td>96.0</td>\n",
       "      <td>9.53</td>\n",
       "      <td>7.1</td>\n",
       "      <td>6.0</td>\n",
       "      <td>1.92</td>\n",
       "      <td>0.0</td>\n",
       "      <td>False</td>\n",
       "    </tr>\n",
       "    <tr>\n",
       "      <th>8</th>\n",
       "      <td>0.0</td>\n",
       "      <td>0.0</td>\n",
       "      <td>0.0</td>\n",
       "      <td>184.5</td>\n",
       "      <td>97.0</td>\n",
       "      <td>31.37</td>\n",
       "      <td>351.6</td>\n",
       "      <td>80.0</td>\n",
       "      <td>29.89</td>\n",
       "      <td>215.8</td>\n",
       "      <td>90.0</td>\n",
       "      <td>9.71</td>\n",
       "      <td>8.7</td>\n",
       "      <td>4.0</td>\n",
       "      <td>2.35</td>\n",
       "      <td>1.0</td>\n",
       "      <td>False</td>\n",
       "    </tr>\n",
       "    <tr>\n",
       "      <th>9</th>\n",
       "      <td>1.0</td>\n",
       "      <td>1.0</td>\n",
       "      <td>37.0</td>\n",
       "      <td>258.6</td>\n",
       "      <td>84.0</td>\n",
       "      <td>43.96</td>\n",
       "      <td>222.0</td>\n",
       "      <td>111.0</td>\n",
       "      <td>18.87</td>\n",
       "      <td>326.4</td>\n",
       "      <td>97.0</td>\n",
       "      <td>14.69</td>\n",
       "      <td>11.2</td>\n",
       "      <td>5.0</td>\n",
       "      <td>NaN</td>\n",
       "      <td>NaN</td>\n",
       "      <td>False</td>\n",
       "    </tr>\n",
       "  </tbody>\n",
       "</table>\n",
       "</div>"
      ],
      "text/plain": [
       "   intl_plan  voice_mail_plan  number_vmail_messages  total_day_minutes  \\\n",
       "0        0.0              1.0                   25.0              265.1   \n",
       "1        0.0              1.0                   26.0              161.6   \n",
       "2        0.0              0.0                    0.0              243.4   \n",
       "3        1.0              0.0                    0.0              299.4   \n",
       "4        1.0              0.0                    0.0              166.7   \n",
       "5        1.0              0.0                    0.0                NaN   \n",
       "6        0.0              NaN                   24.0              218.2   \n",
       "7        1.0              0.0                    0.0              157.0   \n",
       "8        0.0              0.0                    0.0              184.5   \n",
       "9        1.0              1.0                   37.0              258.6   \n",
       "\n",
       "   total_day_calls  total_day_charge  total_eve_minutes  total_eve_calls  \\\n",
       "0            110.0             45.07              197.4             99.0   \n",
       "1            123.0             27.47              195.5            103.0   \n",
       "2            114.0             41.38              121.2              NaN   \n",
       "3              NaN             50.90               61.9             88.0   \n",
       "4            113.0             28.34              148.3            122.0   \n",
       "5             98.0             37.98              220.6            101.0   \n",
       "6             88.0               NaN              348.5            108.0   \n",
       "7             79.0             26.69              103.1             94.0   \n",
       "8             97.0             31.37              351.6             80.0   \n",
       "9             84.0             43.96              222.0            111.0   \n",
       "\n",
       "   total_eve_charge  total_night_minutes  total_night_calls  \\\n",
       "0             16.78                244.7               91.0   \n",
       "1             16.62                254.4              103.0   \n",
       "2             10.30                162.6              104.0   \n",
       "3              5.26                  NaN               89.0   \n",
       "4             12.61                186.9              121.0   \n",
       "5             18.75                203.9              118.0   \n",
       "6             29.62                212.6              118.0   \n",
       "7              8.76                211.8               96.0   \n",
       "8             29.89                215.8               90.0   \n",
       "9             18.87                326.4               97.0   \n",
       "\n",
       "   total_night_charge  total_intl_minutes  total_intl_calls  \\\n",
       "0               11.01                10.0               3.0   \n",
       "1                 NaN                 NaN               3.0   \n",
       "2                7.32                12.2               5.0   \n",
       "3                8.86                 6.6               7.0   \n",
       "4                8.41                10.1               3.0   \n",
       "5                9.18                 6.3               6.0   \n",
       "6                9.57                 7.5               7.0   \n",
       "7                9.53                 7.1               6.0   \n",
       "8                9.71                 8.7               4.0   \n",
       "9               14.69                11.2               5.0   \n",
       "\n",
       "   total_intl_charge  number_customer_service_calls  churned  \n",
       "0               2.70                            1.0    False  \n",
       "1               3.70                            1.0    False  \n",
       "2               3.29                            0.0    False  \n",
       "3               1.78                            2.0    False  \n",
       "4               2.73                            3.0    False  \n",
       "5               1.70                            0.0    False  \n",
       "6               2.03                            3.0    False  \n",
       "7               1.92                            0.0    False  \n",
       "8               2.35                            1.0    False  \n",
       "9                NaN                            NaN    False  "
      ]
     },
     "execution_count": 6,
     "metadata": {},
     "output_type": "execute_result"
    }
   ],
   "source": [
    "df.head(10)"
   ]
  },
  {
   "cell_type": "code",
   "execution_count": 7,
   "metadata": {},
   "outputs": [
    {
     "name": "stdout",
     "output_type": "stream",
     "text": [
      "Number of rows:  5000\n"
     ]
    }
   ],
   "source": [
    "print(\"Number of rows: \", df.shape[0])"
   ]
  },
  {
   "cell_type": "markdown",
   "metadata": {},
   "source": [
    "### Do we have any problems with our dataset?"
   ]
  },
  {
   "cell_type": "code",
   "execution_count": 8,
   "metadata": {},
   "outputs": [
    {
     "data": {
      "text/plain": [
       "intl_plan                        4815.0\n",
       "voice_mail_plan                  4597.0\n",
       "number_vmail_messages            4839.0\n",
       "total_day_minutes                4630.0\n",
       "total_day_calls                  4621.0\n",
       "total_day_charge                 4663.0\n",
       "total_eve_minutes                4894.0\n",
       "total_eve_calls                  4565.0\n",
       "total_eve_charge                 4624.0\n",
       "total_night_minutes              4537.0\n",
       "total_night_calls                4822.0\n",
       "total_night_charge               4904.0\n",
       "total_intl_minutes               4691.0\n",
       "total_intl_calls                 4680.0\n",
       "total_intl_charge                4697.0\n",
       "number_customer_service_calls    4593.0\n",
       "Name: count, dtype: float64"
      ]
     },
     "execution_count": 8,
     "metadata": {},
     "output_type": "execute_result"
    }
   ],
   "source": [
    "df.describe().loc['count']"
   ]
  },
  {
   "cell_type": "markdown",
   "metadata": {},
   "source": [
    "## Preprocessing"
   ]
  },
  {
   "cell_type": "markdown",
   "metadata": {},
   "source": [
    "### Filling missing values with zero\n",
    "\n",
    "Missing values is a common problem when applying Machine Learning in the real world. Here we are going to solve this problem by replacing missing values with zero, but this is not always the best choice depending on the dataset you are working with."
   ]
  },
  {
   "cell_type": "code",
   "execution_count": 9,
   "metadata": {},
   "outputs": [],
   "source": [
    "df.fillna(0, inplace=True)"
   ]
  },
  {
   "cell_type": "code",
   "execution_count": 10,
   "metadata": {},
   "outputs": [
    {
     "data": {
      "text/plain": [
       "intl_plan                        5000.0\n",
       "voice_mail_plan                  5000.0\n",
       "number_vmail_messages            5000.0\n",
       "total_day_minutes                5000.0\n",
       "total_day_calls                  5000.0\n",
       "total_day_charge                 5000.0\n",
       "total_eve_minutes                5000.0\n",
       "total_eve_calls                  5000.0\n",
       "total_eve_charge                 5000.0\n",
       "total_night_minutes              5000.0\n",
       "total_night_calls                5000.0\n",
       "total_night_charge               5000.0\n",
       "total_intl_minutes               5000.0\n",
       "total_intl_calls                 5000.0\n",
       "total_intl_charge                5000.0\n",
       "number_customer_service_calls    5000.0\n",
       "Name: count, dtype: float64"
      ]
     },
     "execution_count": 10,
     "metadata": {},
     "output_type": "execute_result"
    }
   ],
   "source": [
    "df.describe().loc['count']"
   ]
  },
  {
   "cell_type": "markdown",
   "metadata": {},
   "source": [
    "## Dropping target column from features and train test split"
   ]
  },
  {
   "cell_type": "code",
   "execution_count": 11,
   "metadata": {},
   "outputs": [],
   "source": [
    "features = df.drop([\"churned\"], axis=1).columns"
   ]
  },
  {
   "cell_type": "code",
   "execution_count": 12,
   "metadata": {},
   "outputs": [
    {
     "name": "stdout",
     "output_type": "stream",
     "text": [
      "Index(['intl_plan', 'voice_mail_plan', 'number_vmail_messages',\n",
      "       'total_day_minutes', 'total_day_calls', 'total_day_charge',\n",
      "       'total_eve_minutes', 'total_eve_calls', 'total_eve_charge',\n",
      "       'total_night_minutes', 'total_night_calls', 'total_night_charge',\n",
      "       'total_intl_minutes', 'total_intl_calls', 'total_intl_charge',\n",
      "       'number_customer_service_calls'],\n",
      "      dtype='object')\n"
     ]
    }
   ],
   "source": [
    "print(features)"
   ]
  },
  {
   "cell_type": "code",
   "execution_count": 13,
   "metadata": {},
   "outputs": [],
   "source": [
    "df_train, df_test = train_test_split(df, test_size=0.25)"
   ]
  },
  {
   "cell_type": "code",
   "execution_count": 14,
   "metadata": {},
   "outputs": [
    {
     "name": "stdout",
     "output_type": "stream",
     "text": [
      "Train set has 3750 examples and 17 features\n",
      "Test set has 1250 examples and 17 features\n"
     ]
    }
   ],
   "source": [
    "print(\"Train set has {} examples and {} features\".format(df_train.shape[0],df_train.shape[1]))\n",
    "print(\"Test set has {} examples and {} features\".format(df_test.shape[0],df_train.shape[1]))"
   ]
  },
  {
   "cell_type": "markdown",
   "metadata": {},
   "source": [
    "## Training and evaluation"
   ]
  },
  {
   "cell_type": "code",
   "execution_count": 15,
   "metadata": {},
   "outputs": [],
   "source": [
    "def train_classifier(clf, features, train_targets):\n",
    "    clf.fit(features, train_targets)\n",
    "    return clf"
   ]
  },
  {
   "cell_type": "code",
   "execution_count": 16,
   "metadata": {},
   "outputs": [],
   "source": [
    "def make_predictions(clf, features):\n",
    "    predictions = clf.predict(features)\n",
    "    probs = clf.predict_proba(features)\n",
    "    return predictions, probs"
   ]
  },
  {
   "cell_type": "code",
   "execution_count": 17,
   "metadata": {},
   "outputs": [],
   "source": [
    "def evaluate_clf(clf,features, test_targets):\n",
    "    score = clf.score(features, test_targets)\n",
    "    return score"
   ]
  },
  {
   "cell_type": "code",
   "execution_count": 18,
   "metadata": {},
   "outputs": [],
   "source": [
    "def get_confusion_matrix(test_targets, predictions):\n",
    "    conf_matrix = pd.DataFrame(\n",
    "        confusion_matrix(test_targets, predictions), \n",
    "        columns=[\"Predicted False\", \"Predicted True\"], \n",
    "        index=[\"Actual False\", \"Actual True\"]\n",
    "    )\n",
    "    return conf_matrix"
   ]
  },
  {
   "cell_type": "code",
   "execution_count": 19,
   "metadata": {},
   "outputs": [],
   "source": [
    "def plot_roc_curve(targets_test,probs):\n",
    "    fpr, tpr, threshold = roc_curve(targets_test, probs[:,1])\n",
    "    plt.title('Receiver Operating Characteristic')\n",
    "    plt.plot(fpr, tpr, 'b')\n",
    "    plt.plot([0, 1], [0, 1],'r--')\n",
    "    plt.xlim([0, 1])\n",
    "    plt.ylim([0, 1])\n",
    "    plt.ylabel('True Positive Rate')\n",
    "    plt.xlabel('False Positive Rate')\n",
    "    plt.show()"
   ]
  },
  {
   "cell_type": "code",
   "execution_count": 20,
   "metadata": {},
   "outputs": [],
   "source": [
    "def plot_features_importance(clf):\n",
    "    fig = plt.figure(figsize=(20, 18))\n",
    "    ax = fig.add_subplot(111)\n",
    "\n",
    "    df_f = pd.DataFrame(clf.feature_importances_, columns=[\"importance\"])\n",
    "    df_f[\"labels\"] = features\n",
    "    df_f.sort_values(\"importance\", inplace=True, ascending=False)\n",
    "    display(df_f.head(5))\n",
    "\n",
    "    index = np.arange(len(clf.feature_importances_))\n",
    "    bar_width = 0.5\n",
    "    rects = plt.barh(index , df_f[\"importance\"], bar_width, alpha=0.4, color='b', label='Main')\n",
    "    plt.yticks(index, df_f[\"labels\"])\n",
    "    plt.show()"
   ]
  },
  {
   "cell_type": "markdown",
   "metadata": {},
   "source": [
    "# Setting number of CPUs in Scikit-Learn\n",
    "\n",
    "In order to better understand how to get the most out of your Intel CPU it is also important look at the documentation of the library you are using and set some flags that might be important to get best performance.\n",
    "\n",
    "Special attention for n_jobs :\n",
    "\n",
    "   - KNN: The number of parallel jobs to run for neighbors search. If -1, then the number of jobs is set to the number of CPU cores.\n",
    "   - Random Forest: The number of jobs to run in parallel for both fit and predict. If -1, then the number of jobs is set to the number of cores. (default=1)\n",
    "\n",
    "# Training Classifiers\n",
    "\n",
    "He we are going to evaluate 3 different Classification Algorithms:\n",
    "\n",
    "- K-Nearest Neighboors (KNN)\n",
    "- Random Forest\n",
    "- Support Vector Machines (SVM)\n"
   ]
  },
  {
   "cell_type": "code",
   "execution_count": 21,
   "metadata": {},
   "outputs": [],
   "source": [
    "knnClf = KNeighborsClassifier(n_neighbors=4, n_jobs=-1)\n",
    "knnClf = train_classifier(knnClf, df_train[features], df_train[\"churned\"] )"
   ]
  },
  {
   "cell_type": "code",
   "execution_count": 22,
   "metadata": {},
   "outputs": [],
   "source": [
    "randForestClf = RandomForestClassifier(n_estimators=30, n_jobs=-1)\n",
    "randForestClf = train_classifier(randForestClf, df_train[features], df_train[\"churned\"] )"
   ]
  },
  {
   "cell_type": "code",
   "execution_count": 23,
   "metadata": {},
   "outputs": [],
   "source": [
    "svmClf =SVC(kernel='rbf', random_state=0, gamma=.01, C=1, probability=True)\n",
    "svmClf = train_classifier(svmClf, df_train[features], df_train[\"churned\"] )"
   ]
  },
  {
   "cell_type": "markdown",
   "metadata": {},
   "source": [
    "## Performing some predictions"
   ]
  },
  {
   "cell_type": "code",
   "execution_count": 24,
   "metadata": {},
   "outputs": [],
   "source": [
    "knnPreds, knnProbs = make_predictions(knnClf, df_test[features])\n",
    "randForestPreds, randForestProbs = make_predictions(randForestClf, df_test[features])\n",
    "svmPreds, svmProbs = make_predictions(svmClf, df_test[features])"
   ]
  },
  {
   "cell_type": "code",
   "execution_count": 25,
   "metadata": {},
   "outputs": [
    {
     "name": "stdout",
     "output_type": "stream",
     "text": [
      "knnPreds [False False False False False False False False False False] \n",
      "\n",
      "randForestPreds [False False False False False False False False False False] \n",
      "\n",
      "svmPreds [False False False False False False False False False False] \n",
      "\n",
      "Truth [False, False, False, False, True, False, False, False, False, False] \n",
      "\n"
     ]
    }
   ],
   "source": [
    "print(\"knnPreds {} \\n\".format(knnPreds[0:10]))\n",
    "print(\"randForestPreds {} \\n\".format(randForestPreds[0:10]))\n",
    "print(\"svmPreds {} \\n\".format(svmPreds[0:10]))\n",
    "print(\"Truth {} \\n\".format(df_train[\"churned\"].tolist()[0:10]))"
   ]
  },
  {
   "cell_type": "markdown",
   "metadata": {},
   "source": [
    "## Evaluating Classifiers "
   ]
  },
  {
   "cell_type": "code",
   "execution_count": 26,
   "metadata": {},
   "outputs": [],
   "source": [
    "knnEval = evaluate_clf(knnClf, df_test[features], df_test[\"churned\"])\n",
    "randForestEval = evaluate_clf(randForestClf, df_test[features], df_test[\"churned\"])\n",
    "svmEval = evaluate_clf(svmClf, df_test[features], df_test[\"churned\"])"
   ]
  },
  {
   "cell_type": "code",
   "execution_count": 27,
   "metadata": {},
   "outputs": [
    {
     "name": "stdout",
     "output_type": "stream",
     "text": [
      "knnEval 0.8872\n",
      "randForestEval 0.948\n",
      "svmEval 0.86\n"
     ]
    }
   ],
   "source": [
    "print(\"knnEval {}\".format(knnEval))\n",
    "print(\"randForestEval {}\".format(randForestEval))\n",
    "print(\"svmEval {}\".format(svmEval))"
   ]
  },
  {
   "cell_type": "code",
   "execution_count": 28,
   "metadata": {},
   "outputs": [],
   "source": [
    "# Confusion Matrix"
   ]
  },
  {
   "cell_type": "code",
   "execution_count": 29,
   "metadata": {},
   "outputs": [
    {
     "name": "stdout",
     "output_type": "stream",
     "text": [
      "              Predicted False  Predicted True\n",
      "Actual False             1069               6\n",
      "Actual True               135              40\n"
     ]
    }
   ],
   "source": [
    "confMatKNN = get_confusion_matrix(df_test[\"churned\"], knnPreds)\n",
    "print(confMatKNN)"
   ]
  },
  {
   "cell_type": "code",
   "execution_count": 30,
   "metadata": {},
   "outputs": [
    {
     "name": "stdout",
     "output_type": "stream",
     "text": [
      "              Predicted False  Predicted True\n",
      "Actual False             1064              11\n",
      "Actual True                54             121\n"
     ]
    }
   ],
   "source": [
    "confMatrandForest = get_confusion_matrix(df_test[\"churned\"], randForestPreds)\n",
    "print(confMatrandForest)"
   ]
  },
  {
   "cell_type": "code",
   "execution_count": 31,
   "metadata": {},
   "outputs": [
    {
     "name": "stdout",
     "output_type": "stream",
     "text": [
      "              Predicted False  Predicted True\n",
      "Actual False             1075               0\n",
      "Actual True               175               0\n"
     ]
    }
   ],
   "source": [
    "confMatSVM= get_confusion_matrix(df_test[\"churned\"], svmPreds)\n",
    "print(confMatSVM)"
   ]
  },
  {
   "cell_type": "code",
   "execution_count": 32,
   "metadata": {},
   "outputs": [
    {
     "data": {
      "image/png": "[encoded data removed]",
      "text/plain": [
       "<Figure size 432x288 with 1 Axes>"
      ]
     },
     "metadata": {},
     "output_type": "display_data"
    }
   ],
   "source": [
    "plot_roc_curve(df_test[\"churned\"], knnProbs)"
   ]
  },
  {
   "cell_type": "code",
   "execution_count": 33,
   "metadata": {},
   "outputs": [
    {
     "data": {
      "image/png": "[encoded data removed]",
      "text/plain": [
       "<Figure size 432x288 with 1 Axes>"
      ]
     },
     "metadata": {},
     "output_type": "display_data"
    }
   ],
   "source": [
    "plot_roc_curve(df_test[\"churned\"], randForestProbs)"
   ]
  },
  {
   "cell_type": "code",
   "execution_count": 34,
   "metadata": {},
   "outputs": [
    {
     "data": {
      "image/png": "[encoded data removed]",
      "text/plain": [
       "<Figure size 432x288 with 1 Axes>"
      ]
     },
     "metadata": {},
     "output_type": "display_data"
    }
   ],
   "source": [
    "plot_roc_curve(df_test[\"churned\"], svmProbs)"
   ]
  },
  {
   "cell_type": "code",
   "execution_count": 35,
   "metadata": {},
   "outputs": [
    {
     "data": {
      "text/html": [
       "<div>\n",
       "<style scoped>\n",
       "    .dataframe tbody tr th:only-of-type {\n",
       "        vertical-align: middle;\n",
       "    }\n",
       "\n",
       "    .dataframe tbody tr th {\n",
       "        vertical-align: top;\n",
       "    }\n",
       "\n",
       "    .dataframe thead th {\n",
       "        text-align: right;\n",
       "    }\n",
       "</style>\n",
       "<table border=\"1\" class=\"dataframe\">\n",
       "  <thead>\n",
       "    <tr style=\"text-align: right;\">\n",
       "      <th></th>\n",
       "      <th>importance</th>\n",
       "      <th>labels</th>\n",
       "    </tr>\n",
       "  </thead>\n",
       "  <tbody>\n",
       "    <tr>\n",
       "      <th>3</th>\n",
       "      <td>0.146184</td>\n",
       "      <td>total_day_minutes</td>\n",
       "    </tr>\n",
       "    <tr>\n",
       "      <th>5</th>\n",
       "      <td>0.140286</td>\n",
       "      <td>total_day_charge</td>\n",
       "    </tr>\n",
       "    <tr>\n",
       "      <th>15</th>\n",
       "      <td>0.110502</td>\n",
       "      <td>number_customer_service_calls</td>\n",
       "    </tr>\n",
       "    <tr>\n",
       "      <th>0</th>\n",
       "      <td>0.080934</td>\n",
       "      <td>intl_plan</td>\n",
       "    </tr>\n",
       "    <tr>\n",
       "      <th>6</th>\n",
       "      <td>0.067882</td>\n",
       "      <td>total_eve_minutes</td>\n",
       "    </tr>\n",
       "  </tbody>\n",
       "</table>\n",
       "</div>"
      ],
      "text/plain": [
       "    importance                         labels\n",
       "3     0.146184              total_day_minutes\n",
       "5     0.140286               total_day_charge\n",
       "15    0.110502  number_customer_service_calls\n",
       "0     0.080934                      intl_plan\n",
       "6     0.067882              total_eve_minutes"
      ]
     },
     "metadata": {},
     "output_type": "display_data"
    },
    {
     "data": {
      "image/png": "[encoded data removed]",
      "text/plain": [
       "<Figure size 1440x1296 with 1 Axes>"
      ]
     },
     "metadata": {},
     "output_type": "display_data"
    }
   ],
   "source": [
    "plot_features_importance(randForestClf)"
   ]
  },
  {
   "cell_type": "markdown",
   "metadata": {},
   "source": [
    "### How many customers have more than 90% chance of stop using my product?"
   ]
  },
  {
   "cell_type": "code",
   "execution_count": 36,
   "metadata": {},
   "outputs": [
    {
     "name": "stderr",
     "output_type": "stream",
     "text": [
      "/home/intel/miniconda3/envs/senai-ba/lib/python3.6/site-packages/ipykernel/__main__.py:1: SettingWithCopyWarning: \n",
      "A value is trying to be set on a copy of a slice from a DataFrame.\n",
      "Try using .loc[row_indexer,col_indexer] = value instead\n",
      "\n",
      "See the caveats in the documentation: http://pandas.pydata.org/pandas-docs/stable/indexing.html#indexing-view-versus-copy\n",
      "  if __name__ == '__main__':\n"
     ]
    },
    {
     "data": {
      "text/html": [
       "<div>\n",
       "<style scoped>\n",
       "    .dataframe tbody tr th:only-of-type {\n",
       "        vertical-align: middle;\n",
       "    }\n",
       "\n",
       "    .dataframe tbody tr th {\n",
       "        vertical-align: top;\n",
       "    }\n",
       "\n",
       "    .dataframe thead th {\n",
       "        text-align: right;\n",
       "    }\n",
       "</style>\n",
       "<table border=\"1\" class=\"dataframe\">\n",
       "  <thead>\n",
       "    <tr style=\"text-align: right;\">\n",
       "      <th></th>\n",
       "      <th>prob_true</th>\n",
       "    </tr>\n",
       "  </thead>\n",
       "  <tbody>\n",
       "    <tr>\n",
       "      <th>2581</th>\n",
       "      <td>0.933333</td>\n",
       "    </tr>\n",
       "    <tr>\n",
       "      <th>144</th>\n",
       "      <td>0.933333</td>\n",
       "    </tr>\n",
       "    <tr>\n",
       "      <th>975</th>\n",
       "      <td>0.966667</td>\n",
       "    </tr>\n",
       "    <tr>\n",
       "      <th>3413</th>\n",
       "      <td>0.966667</td>\n",
       "    </tr>\n",
       "    <tr>\n",
       "      <th>4599</th>\n",
       "      <td>0.966667</td>\n",
       "    </tr>\n",
       "    <tr>\n",
       "      <th>3966</th>\n",
       "      <td>1.000000</td>\n",
       "    </tr>\n",
       "    <tr>\n",
       "      <th>4597</th>\n",
       "      <td>0.933333</td>\n",
       "    </tr>\n",
       "    <tr>\n",
       "      <th>1713</th>\n",
       "      <td>0.933333</td>\n",
       "    </tr>\n",
       "    <tr>\n",
       "      <th>2099</th>\n",
       "      <td>1.000000</td>\n",
       "    </tr>\n",
       "    <tr>\n",
       "      <th>2747</th>\n",
       "      <td>0.933333</td>\n",
       "    </tr>\n",
       "    <tr>\n",
       "      <th>4803</th>\n",
       "      <td>0.966667</td>\n",
       "    </tr>\n",
       "    <tr>\n",
       "      <th>2660</th>\n",
       "      <td>0.933333</td>\n",
       "    </tr>\n",
       "    <tr>\n",
       "      <th>2824</th>\n",
       "      <td>0.933333</td>\n",
       "    </tr>\n",
       "    <tr>\n",
       "      <th>365</th>\n",
       "      <td>1.000000</td>\n",
       "    </tr>\n",
       "    <tr>\n",
       "      <th>2103</th>\n",
       "      <td>0.966667</td>\n",
       "    </tr>\n",
       "    <tr>\n",
       "      <th>306</th>\n",
       "      <td>0.933333</td>\n",
       "    </tr>\n",
       "    <tr>\n",
       "      <th>3738</th>\n",
       "      <td>0.933333</td>\n",
       "    </tr>\n",
       "    <tr>\n",
       "      <th>2115</th>\n",
       "      <td>0.966667</td>\n",
       "    </tr>\n",
       "    <tr>\n",
       "      <th>4638</th>\n",
       "      <td>0.933333</td>\n",
       "    </tr>\n",
       "    <tr>\n",
       "      <th>832</th>\n",
       "      <td>1.000000</td>\n",
       "    </tr>\n",
       "    <tr>\n",
       "      <th>2407</th>\n",
       "      <td>0.933333</td>\n",
       "    </tr>\n",
       "    <tr>\n",
       "      <th>605</th>\n",
       "      <td>0.966667</td>\n",
       "    </tr>\n",
       "    <tr>\n",
       "      <th>1662</th>\n",
       "      <td>0.966667</td>\n",
       "    </tr>\n",
       "    <tr>\n",
       "      <th>3169</th>\n",
       "      <td>1.000000</td>\n",
       "    </tr>\n",
       "    <tr>\n",
       "      <th>2696</th>\n",
       "      <td>0.966667</td>\n",
       "    </tr>\n",
       "  </tbody>\n",
       "</table>\n",
       "</div>"
      ],
      "text/plain": [
       "      prob_true\n",
       "2581   0.933333\n",
       "144    0.933333\n",
       "975    0.966667\n",
       "3413   0.966667\n",
       "4599   0.966667\n",
       "3966   1.000000\n",
       "4597   0.933333\n",
       "1713   0.933333\n",
       "2099   1.000000\n",
       "2747   0.933333\n",
       "4803   0.966667\n",
       "2660   0.933333\n",
       "2824   0.933333\n",
       "365    1.000000\n",
       "2103   0.966667\n",
       "306    0.933333\n",
       "3738   0.933333\n",
       "2115   0.966667\n",
       "4638   0.933333\n",
       "832    1.000000\n",
       "2407   0.933333\n",
       "605    0.966667\n",
       "1662   0.966667\n",
       "3169   1.000000\n",
       "2696   0.966667"
      ]
     },
     "execution_count": 36,
     "metadata": {},
     "output_type": "execute_result"
    }
   ],
   "source": [
    "df_test[\"prob_true\"] = randForestProbs[:, 1]\n",
    "df_risky = df_test[df_test[\"prob_true\"] > 0.9]\n",
    "df_risky[[\"prob_true\"]]"
   ]
  },
  {
   "cell_type": "code",
   "execution_count": 37,
   "metadata": {},
   "outputs": [
    {
     "data": {
      "text/plain": [
       "(25, 18)"
      ]
     },
     "execution_count": 37,
     "metadata": {},
     "output_type": "execute_result"
    }
   ],
   "source": [
    "df_risky.shape"
   ]
  },
  {
   "cell_type": "code",
   "execution_count": 38,
   "metadata": {},
   "outputs": [
    {
     "data": {
      "text/plain": [
       "intl_plan                            0\n",
       "voice_mail_plan                      0\n",
       "number_vmail_messages                0\n",
       "total_day_minutes                350.8\n",
       "total_day_calls                      0\n",
       "total_day_charge                 59.64\n",
       "total_eve_minutes                216.5\n",
       "total_eve_calls                     94\n",
       "total_eve_charge                  18.4\n",
       "total_night_minutes              253.9\n",
       "total_night_calls                  100\n",
       "total_night_charge               11.43\n",
       "total_intl_minutes                10.1\n",
       "total_intl_calls                     9\n",
       "total_intl_charge                 2.73\n",
       "number_customer_service_calls        1\n",
       "churned                           True\n",
       "Name: 365, dtype: object"
      ]
     },
     "execution_count": 38,
     "metadata": {},
     "output_type": "execute_result"
    }
   ],
   "source": [
    "df.iloc[365]"
   ]
  },
  {
   "cell_type": "code",
   "execution_count": null,
   "metadata": {},
   "outputs": [],
   "source": []
  }
 ],
 "metadata": {
  "kernelspec": {
   "display_name": "Python 3",
   "language": "python",
   "name": "python3"
  },
  "language_info": {
   "codemirror_mode": {
    "name": "ipython",
    "version": 3
   },
   "file_extension": ".py",
   "mimetype": "text/x-python",
   "name": "python",
   "nbconvert_exporter": "python",
   "pygments_lexer": "ipython3",
   "version": "3.6.5"
  }
 },
 "nbformat": 4,
 "nbformat_minor": 2
}
