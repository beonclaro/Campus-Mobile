{
  "nbformat": 4,
  "nbformat_minor": 0,
  "metadata": {
    "colab": {
      "name": "churn_analysis_campus_mobile.ipynb",
      "provenance": [],
      "collapsed_sections": []
    },
    "kernelspec": {
      "display_name": "Python 3",
      "language": "python",
      "name": "python3"
    }
  },
  "cells": [
    {
      "cell_type": "markdown",
      "metadata": {
        "id": "k4YYL6HuyS6p"
      },
      "source": [
        "# Machine Learning: Churn Analysis\n",
        "by [Feliphe Galiza](https://github.com/felipheggaliza)"
      ]
    },
    {
      "cell_type": "markdown",
      "metadata": {
        "id": "7sfwuybayS6t"
      },
      "source": [
        "# Churn Analysis using Scikit-Learn\n",
        "\n",
        "In this article our goal is to predict if a customer will churn or not based on past data. Furthermore, we will compute the probability of a given customer stop using the product.\n",
        "\n",
        "![title](https://www.displayr.com/wp-content/uploads/2017/07/customer-churn-edit.jpeg)\n"
      ]
    },
    {
      "cell_type": "markdown",
      "metadata": {
        "id": "6zIW3KlNyS6w"
      },
      "source": [
        "### Importing tools"
      ]
    },
    {
      "cell_type": "code",
      "metadata": {
        "id": "fVzJbw63yS60"
      },
      "source": [
        "import pandas as pd \n",
        "from sklearn.model_selection import train_test_split\n",
        "\n",
        "from sklearn.ensemble import RandomForestClassifier\n",
        "from sklearn.neighbors import KNeighborsClassifier\n",
        "from sklearn.svm import SVC\n",
        "from sklearn.neural_network import MLPClassifier\n",
        "\n",
        "from sklearn.metrics import confusion_matrix\n",
        "from sklearn.metrics import f1_score\n",
        "from sklearn.metrics import roc_curve\n",
        "from sklearn.metrics import roc_auc_score\n",
        "import matplotlib\n",
        "import matplotlib.pyplot as plt\n",
        "import numpy as np\n",
        "from IPython.display import display, HTML"
      ],
      "execution_count": null,
      "outputs": []
    },
    {
      "cell_type": "markdown",
      "metadata": {
        "id": "up4meOyvyS68"
      },
      "source": [
        "### Reading dataset"
      ]
    },
    {
      "cell_type": "code",
      "metadata": {
        "id": "Cg1LaJ9eyS6-"
      },
      "source": [
        "DATASET_CSV = \"https://cdn2.hubspot.net/hubfs/532045/Discriminant-analysis-churn-dataset.csv\""
      ],
      "execution_count": null,
      "outputs": []
    },
    {
      "cell_type": "code",
      "metadata": {
        "id": "2aFK4xNAyS7G"
      },
      "source": [
        "df = pd.read_csv(DATASET_CSV)"
      ],
      "execution_count": null,
      "outputs": []
    },
    {
      "cell_type": "markdown",
      "metadata": {
        "id": "-vse2eJOyS7M"
      },
      "source": [
        "### Exploratory Analysis\n",
        "This step is very important for any Machine Learning or Deep Learning task. You have to look at your data in order to better understand it. The data may need some adjusts in order to improve the AI algorithm performance, sometimes preprocessing is also needed."
      ]
    },
    {
      "cell_type": "code",
      "metadata": {
        "id": "DAShoFGkyS7O",
        "colab": {
          "base_uri": "https://localhost:8080/",
          "height": 359
        },
        "outputId": "2774dcf0-fd4e-41fc-aea0-e1a489b0f8a4"
      },
      "source": [
        "df.head(10)"
      ],
      "execution_count": null,
      "outputs": [
        {
          "output_type": "execute_result",
          "data": {
            "text/html": [
              "<div>\n",
              "<style scoped>\n",
              "    .dataframe tbody tr th:only-of-type {\n",
              "        vertical-align: middle;\n",
              "    }\n",
              "\n",
              "    .dataframe tbody tr th {\n",
              "        vertical-align: top;\n",
              "    }\n",
              "\n",
              "    .dataframe thead th {\n",
              "        text-align: right;\n",
              "    }\n",
              "</style>\n",
              "<table border=\"1\" class=\"dataframe\">\n",
              "  <thead>\n",
              "    <tr style=\"text-align: right;\">\n",
              "      <th></th>\n",
              "      <th>account_length</th>\n",
              "      <th>number_vmail_messages</th>\n",
              "      <th>total_day_charge</th>\n",
              "      <th>total_eve_charge</th>\n",
              "      <th>total_night_charge</th>\n",
              "      <th>total_intl_charge</th>\n",
              "      <th>number_customer_service_calls</th>\n",
              "      <th>churn</th>\n",
              "    </tr>\n",
              "  </thead>\n",
              "  <tbody>\n",
              "    <tr>\n",
              "      <th>0</th>\n",
              "      <td>128</td>\n",
              "      <td>25</td>\n",
              "      <td>45.07</td>\n",
              "      <td>16.78</td>\n",
              "      <td>11.01</td>\n",
              "      <td>2.70</td>\n",
              "      <td>1</td>\n",
              "      <td>0</td>\n",
              "    </tr>\n",
              "    <tr>\n",
              "      <th>1</th>\n",
              "      <td>107</td>\n",
              "      <td>26</td>\n",
              "      <td>27.47</td>\n",
              "      <td>16.62</td>\n",
              "      <td>11.45</td>\n",
              "      <td>3.70</td>\n",
              "      <td>1</td>\n",
              "      <td>0</td>\n",
              "    </tr>\n",
              "    <tr>\n",
              "      <th>2</th>\n",
              "      <td>137</td>\n",
              "      <td>0</td>\n",
              "      <td>41.38</td>\n",
              "      <td>10.30</td>\n",
              "      <td>7.32</td>\n",
              "      <td>3.29</td>\n",
              "      <td>0</td>\n",
              "      <td>0</td>\n",
              "    </tr>\n",
              "    <tr>\n",
              "      <th>3</th>\n",
              "      <td>84</td>\n",
              "      <td>0</td>\n",
              "      <td>50.90</td>\n",
              "      <td>5.26</td>\n",
              "      <td>8.86</td>\n",
              "      <td>1.78</td>\n",
              "      <td>2</td>\n",
              "      <td>0</td>\n",
              "    </tr>\n",
              "    <tr>\n",
              "      <th>4</th>\n",
              "      <td>75</td>\n",
              "      <td>0</td>\n",
              "      <td>28.34</td>\n",
              "      <td>12.61</td>\n",
              "      <td>8.41</td>\n",
              "      <td>2.73</td>\n",
              "      <td>3</td>\n",
              "      <td>0</td>\n",
              "    </tr>\n",
              "    <tr>\n",
              "      <th>5</th>\n",
              "      <td>118</td>\n",
              "      <td>0</td>\n",
              "      <td>37.98</td>\n",
              "      <td>18.75</td>\n",
              "      <td>9.18</td>\n",
              "      <td>1.70</td>\n",
              "      <td>0</td>\n",
              "      <td>0</td>\n",
              "    </tr>\n",
              "    <tr>\n",
              "      <th>6</th>\n",
              "      <td>121</td>\n",
              "      <td>24</td>\n",
              "      <td>37.09</td>\n",
              "      <td>29.62</td>\n",
              "      <td>9.57</td>\n",
              "      <td>2.03</td>\n",
              "      <td>3</td>\n",
              "      <td>0</td>\n",
              "    </tr>\n",
              "    <tr>\n",
              "      <th>7</th>\n",
              "      <td>147</td>\n",
              "      <td>0</td>\n",
              "      <td>26.69</td>\n",
              "      <td>8.76</td>\n",
              "      <td>9.53</td>\n",
              "      <td>1.92</td>\n",
              "      <td>0</td>\n",
              "      <td>0</td>\n",
              "    </tr>\n",
              "    <tr>\n",
              "      <th>8</th>\n",
              "      <td>117</td>\n",
              "      <td>0</td>\n",
              "      <td>31.37</td>\n",
              "      <td>29.89</td>\n",
              "      <td>9.71</td>\n",
              "      <td>2.35</td>\n",
              "      <td>1</td>\n",
              "      <td>0</td>\n",
              "    </tr>\n",
              "    <tr>\n",
              "      <th>9</th>\n",
              "      <td>141</td>\n",
              "      <td>37</td>\n",
              "      <td>43.96</td>\n",
              "      <td>18.87</td>\n",
              "      <td>14.69</td>\n",
              "      <td>3.02</td>\n",
              "      <td>0</td>\n",
              "      <td>0</td>\n",
              "    </tr>\n",
              "  </tbody>\n",
              "</table>\n",
              "</div>"
            ],
            "text/plain": [
              "   account_length  number_vmail_messages  ...  number_customer_service_calls  churn\n",
              "0             128                     25  ...                              1      0\n",
              "1             107                     26  ...                              1      0\n",
              "2             137                      0  ...                              0      0\n",
              "3              84                      0  ...                              2      0\n",
              "4              75                      0  ...                              3      0\n",
              "5             118                      0  ...                              0      0\n",
              "6             121                     24  ...                              3      0\n",
              "7             147                      0  ...                              0      0\n",
              "8             117                      0  ...                              1      0\n",
              "9             141                     37  ...                              0      0\n",
              "\n",
              "[10 rows x 8 columns]"
            ]
          },
          "metadata": {
            "tags": []
          },
          "execution_count": 4
        }
      ]
    },
    {
      "cell_type": "code",
      "metadata": {
        "id": "yr8GRPJayS7U",
        "colab": {
          "base_uri": "https://localhost:8080/",
          "height": 34
        },
        "outputId": "11a82aaf-5642-474a-dc3b-0d050fca4e24"
      },
      "source": [
        "print(\"Number of rows: \", df.shape[0])"
      ],
      "execution_count": null,
      "outputs": [
        {
          "output_type": "stream",
          "text": [
            "Number of rows:  5000\n"
          ],
          "name": "stdout"
        }
      ]
    },
    {
      "cell_type": "markdown",
      "metadata": {
        "id": "W74g7rVkyS7f"
      },
      "source": [
        "### Do we have any problems with our dataset?"
      ]
    },
    {
      "cell_type": "code",
      "metadata": {
        "id": "kQ4h-YOAyS7h",
        "colab": {
          "base_uri": "https://localhost:8080/",
          "height": 170
        },
        "outputId": "1eb639f1-a20d-4885-b1ef-00eaf376d1a9"
      },
      "source": [
        "df.describe().loc['count']"
      ],
      "execution_count": null,
      "outputs": [
        {
          "output_type": "execute_result",
          "data": {
            "text/plain": [
              "account_length                   5000.0\n",
              "number_vmail_messages            5000.0\n",
              "total_day_charge                 5000.0\n",
              "total_eve_charge                 5000.0\n",
              "total_night_charge               5000.0\n",
              "total_intl_charge                5000.0\n",
              "number_customer_service_calls    5000.0\n",
              "churn                            5000.0\n",
              "Name: count, dtype: float64"
            ]
          },
          "metadata": {
            "tags": []
          },
          "execution_count": 6
        }
      ]
    },
    {
      "cell_type": "markdown",
      "metadata": {
        "id": "Wm5PaFx3Euc9"
      },
      "source": [
        "### Features Correlation Matrix\n"
      ]
    },
    {
      "cell_type": "code",
      "metadata": {
        "id": "zY3C3Qo3ETn4",
        "colab": {
          "base_uri": "https://localhost:8080/",
          "height": 317
        },
        "outputId": "2e3560d0-885b-4219-a30b-c0cacc7ceb4a"
      },
      "source": [
        "df.corr()"
      ],
      "execution_count": null,
      "outputs": [
        {
          "output_type": "execute_result",
          "data": {
            "text/html": [
              "<div>\n",
              "<style scoped>\n",
              "    .dataframe tbody tr th:only-of-type {\n",
              "        vertical-align: middle;\n",
              "    }\n",
              "\n",
              "    .dataframe tbody tr th {\n",
              "        vertical-align: top;\n",
              "    }\n",
              "\n",
              "    .dataframe thead th {\n",
              "        text-align: right;\n",
              "    }\n",
              "</style>\n",
              "<table border=\"1\" class=\"dataframe\">\n",
              "  <thead>\n",
              "    <tr style=\"text-align: right;\">\n",
              "      <th></th>\n",
              "      <th>account_length</th>\n",
              "      <th>number_vmail_messages</th>\n",
              "      <th>total_day_charge</th>\n",
              "      <th>total_eve_charge</th>\n",
              "      <th>total_night_charge</th>\n",
              "      <th>total_intl_charge</th>\n",
              "      <th>number_customer_service_calls</th>\n",
              "      <th>churn</th>\n",
              "    </tr>\n",
              "  </thead>\n",
              "  <tbody>\n",
              "    <tr>\n",
              "      <th>account_length</th>\n",
              "      <td>1.000000</td>\n",
              "      <td>-0.014575</td>\n",
              "      <td>-0.001019</td>\n",
              "      <td>-0.009587</td>\n",
              "      <td>0.000656</td>\n",
              "      <td>0.001292</td>\n",
              "      <td>-0.001445</td>\n",
              "      <td>0.021203</td>\n",
              "    </tr>\n",
              "    <tr>\n",
              "      <th>number_vmail_messages</th>\n",
              "      <td>-0.014575</td>\n",
              "      <td>1.000000</td>\n",
              "      <td>0.005377</td>\n",
              "      <td>0.019496</td>\n",
              "      <td>0.005535</td>\n",
              "      <td>0.002505</td>\n",
              "      <td>-0.007086</td>\n",
              "      <td>-0.097633</td>\n",
              "    </tr>\n",
              "    <tr>\n",
              "      <th>total_day_charge</th>\n",
              "      <td>-0.001019</td>\n",
              "      <td>0.005377</td>\n",
              "      <td>1.000000</td>\n",
              "      <td>-0.010757</td>\n",
              "      <td>0.011785</td>\n",
              "      <td>-0.019419</td>\n",
              "      <td>0.002726</td>\n",
              "      <td>0.207700</td>\n",
              "    </tr>\n",
              "    <tr>\n",
              "      <th>total_eve_charge</th>\n",
              "      <td>-0.009587</td>\n",
              "      <td>0.019496</td>\n",
              "      <td>-0.010757</td>\n",
              "      <td>1.000000</td>\n",
              "      <td>-0.016652</td>\n",
              "      <td>0.000155</td>\n",
              "      <td>-0.013836</td>\n",
              "      <td>0.089282</td>\n",
              "    </tr>\n",
              "    <tr>\n",
              "      <th>total_night_charge</th>\n",
              "      <td>0.000656</td>\n",
              "      <td>0.005535</td>\n",
              "      <td>0.011785</td>\n",
              "      <td>-0.016652</td>\n",
              "      <td>1.000000</td>\n",
              "      <td>-0.006650</td>\n",
              "      <td>-0.008530</td>\n",
              "      <td>0.045673</td>\n",
              "    </tr>\n",
              "    <tr>\n",
              "      <th>total_intl_charge</th>\n",
              "      <td>0.001292</td>\n",
              "      <td>0.002505</td>\n",
              "      <td>-0.019419</td>\n",
              "      <td>0.000155</td>\n",
              "      <td>-0.006650</td>\n",
              "      <td>1.000000</td>\n",
              "      <td>-0.012180</td>\n",
              "      <td>0.063275</td>\n",
              "    </tr>\n",
              "    <tr>\n",
              "      <th>number_customer_service_calls</th>\n",
              "      <td>-0.001445</td>\n",
              "      <td>-0.007086</td>\n",
              "      <td>0.002726</td>\n",
              "      <td>-0.013836</td>\n",
              "      <td>-0.008530</td>\n",
              "      <td>-0.012180</td>\n",
              "      <td>1.000000</td>\n",
              "      <td>0.212564</td>\n",
              "    </tr>\n",
              "    <tr>\n",
              "      <th>churn</th>\n",
              "      <td>0.021203</td>\n",
              "      <td>-0.097633</td>\n",
              "      <td>0.207700</td>\n",
              "      <td>0.089282</td>\n",
              "      <td>0.045673</td>\n",
              "      <td>0.063275</td>\n",
              "      <td>0.212564</td>\n",
              "      <td>1.000000</td>\n",
              "    </tr>\n",
              "  </tbody>\n",
              "</table>\n",
              "</div>"
            ],
            "text/plain": [
              "                               account_length  ...     churn\n",
              "account_length                       1.000000  ...  0.021203\n",
              "number_vmail_messages               -0.014575  ... -0.097633\n",
              "total_day_charge                    -0.001019  ...  0.207700\n",
              "total_eve_charge                    -0.009587  ...  0.089282\n",
              "total_night_charge                   0.000656  ...  0.045673\n",
              "total_intl_charge                    0.001292  ...  0.063275\n",
              "number_customer_service_calls       -0.001445  ...  0.212564\n",
              "churn                                0.021203  ...  1.000000\n",
              "\n",
              "[8 rows x 8 columns]"
            ]
          },
          "metadata": {
            "tags": []
          },
          "execution_count": 7
        }
      ]
    },
    {
      "cell_type": "code",
      "metadata": {
        "id": "bgc8Jss61hLt"
      },
      "source": [
        ""
      ],
      "execution_count": null,
      "outputs": []
    },
    {
      "cell_type": "markdown",
      "metadata": {
        "id": "5k1utQ64yS7s"
      },
      "source": [
        "## Preprocessing"
      ]
    },
    {
      "cell_type": "markdown",
      "metadata": {
        "id": "tbYisApnyS79"
      },
      "source": [
        "## Dropping target column from features and train test split"
      ]
    },
    {
      "cell_type": "code",
      "metadata": {
        "id": "Zee5zoFzyS7_"
      },
      "source": [
        "features = df.drop([\"churn\"], axis=1).columns"
      ],
      "execution_count": null,
      "outputs": []
    },
    {
      "cell_type": "code",
      "metadata": {
        "id": "A48l545myS8F",
        "colab": {
          "base_uri": "https://localhost:8080/",
          "height": 85
        },
        "outputId": "dfc317b7-5a2c-4206-8a9b-d806940e35d0"
      },
      "source": [
        "print(features)"
      ],
      "execution_count": null,
      "outputs": [
        {
          "output_type": "stream",
          "text": [
            "Index(['account_length', 'number_vmail_messages', 'total_day_charge',\n",
            "       'total_eve_charge', 'total_night_charge', 'total_intl_charge',\n",
            "       'number_customer_service_calls'],\n",
            "      dtype='object')\n"
          ],
          "name": "stdout"
        }
      ]
    },
    {
      "cell_type": "code",
      "metadata": {
        "id": "ULkTqz1kyS8M"
      },
      "source": [
        "df_train, df_test = train_test_split(df, test_size=0.25)"
      ],
      "execution_count": null,
      "outputs": []
    },
    {
      "cell_type": "code",
      "metadata": {
        "id": "MvY-ipSMyS8R",
        "colab": {
          "base_uri": "https://localhost:8080/",
          "height": 51
        },
        "outputId": "03612c63-ec5d-48b4-eb72-d4160d7df891"
      },
      "source": [
        "print(\"Train set has {} examples and {} features\".format(df_train.shape[0],df_train.shape[1]))\n",
        "print(\"Test set has {} examples and {} features\".format(df_test.shape[0],df_train.shape[1]))"
      ],
      "execution_count": null,
      "outputs": [
        {
          "output_type": "stream",
          "text": [
            "Train set has 3750 examples and 8 features\n",
            "Test set has 1250 examples and 8 features\n"
          ],
          "name": "stdout"
        }
      ]
    },
    {
      "cell_type": "markdown",
      "metadata": {
        "id": "V8JZIrlkyS8V"
      },
      "source": [
        "## Training and evaluation"
      ]
    },
    {
      "cell_type": "code",
      "metadata": {
        "id": "aK3C01eVyS8X"
      },
      "source": [
        "def train_classifier(clf, features, train_targets):\n",
        "    clf.fit(features, train_targets)\n",
        "    return clf"
      ],
      "execution_count": null,
      "outputs": []
    },
    {
      "cell_type": "code",
      "metadata": {
        "id": "cbiJg8xCyS8h"
      },
      "source": [
        "def make_predictions(clf, features):\n",
        "    predictions = clf.predict(features)\n",
        "    probs = clf.predict_proba(features)\n",
        "    return predictions, probs"
      ],
      "execution_count": null,
      "outputs": []
    },
    {
      "cell_type": "code",
      "metadata": {
        "id": "n4ytlSgMyS8m"
      },
      "source": [
        "def evaluate_clf(clf,features, test_targets):\n",
        "    score = clf.score(features, test_targets)\n",
        "    return score"
      ],
      "execution_count": null,
      "outputs": []
    },
    {
      "cell_type": "code",
      "metadata": {
        "id": "fo93v-VpyS8t"
      },
      "source": [
        "def get_confusion_matrix(test_targets, predictions):\n",
        "    conf_matrix = pd.DataFrame(\n",
        "        confusion_matrix(test_targets, predictions), \n",
        "        columns=[\"Predicted False\", \"Predicted True\"], \n",
        "        index=[\"Actual False\", \"Actual True\"]\n",
        "    )\n",
        "    return conf_matrix"
      ],
      "execution_count": null,
      "outputs": []
    },
    {
      "cell_type": "code",
      "metadata": {
        "id": "bfX1LvGzyS8z"
      },
      "source": [
        "def plot_roc_curve(targets_test,probs):\n",
        "    fpr, tpr, threshold = roc_curve(targets_test, probs[:,1])\n",
        "    plt.title('Receiver Operating Characteristic')\n",
        "    plt.plot(fpr, tpr, 'b')\n",
        "    plt.plot([0, 1], [0, 1],'r--')\n",
        "    plt.xlim([0, 1])\n",
        "    plt.ylim([0, 1])\n",
        "    plt.ylabel('True Positive Rate')\n",
        "    plt.xlabel('False Positive Rate')\n",
        "    plt.show()"
      ],
      "execution_count": null,
      "outputs": []
    },
    {
      "cell_type": "code",
      "metadata": {
        "id": "DCCD4mnKyS84"
      },
      "source": [
        "def plot_features_importance(clf):\n",
        "    fig = plt.figure(figsize=(20, 18))\n",
        "    ax = fig.add_subplot(111)\n",
        "\n",
        "    df_f = pd.DataFrame(clf.feature_importances_, columns=[\"importance\"])\n",
        "    df_f[\"labels\"] = features\n",
        "    df_f.sort_values(\"importance\", inplace=True, ascending=False)\n",
        "    display(df_f.head(5))\n",
        "\n",
        "    index = np.arange(len(clf.feature_importances_))\n",
        "    bar_width = 0.5\n",
        "    rects = plt.barh(index , df_f[\"importance\"], bar_width, alpha=0.4, color='b', label='Main')\n",
        "    plt.yticks(index, df_f[\"labels\"])\n",
        "    plt.show()"
      ],
      "execution_count": null,
      "outputs": []
    },
    {
      "cell_type": "markdown",
      "metadata": {
        "id": "PrmDZoldyS8-"
      },
      "source": [
        "# Setting number of CPUs in Scikit-Learn\n",
        "\n",
        "In order to better understand how to get the most out of your Intel CPU it is also important look at the documentation of the library you are using and set some flags that might be important to get best performance.\n",
        "\n",
        "Special attention for n_jobs :\n",
        "\n",
        "   - KNN: The number of parallel jobs to run for neighbors search. If -1, then the number of jobs is set to the number of CPU cores.\n",
        "   - Random Forest: The number of jobs to run in parallel for both fit and predict. If -1, then the number of jobs is set to the number of cores. (default=1)\n",
        "\n",
        "# Training Classifiers\n",
        "\n",
        "He we are going to evaluate 3 different Classification Algorithms:\n",
        "\n",
        "- K-Nearest Neighboors (KNN)\n",
        "- Random Forest\n",
        "- Support Vector Machines (SVM)\n"
      ]
    },
    {
      "cell_type": "code",
      "metadata": {
        "id": "O2Gz1zI_yS8_"
      },
      "source": [
        "knnClf = KNeighborsClassifier(n_neighbors=4, n_jobs=-1)\n",
        "knnClf = train_classifier(knnClf, df_train[features], df_train[\"churn\"] )"
      ],
      "execution_count": null,
      "outputs": []
    },
    {
      "cell_type": "code",
      "metadata": {
        "id": "RxHZ_JbqyS9D"
      },
      "source": [
        "randForestClf = RandomForestClassifier(n_estimators=30, n_jobs=-1)\n",
        "randForestClf = train_classifier(randForestClf, df_train[features], df_train[\"churn\"] )"
      ],
      "execution_count": null,
      "outputs": []
    },
    {
      "cell_type": "code",
      "metadata": {
        "id": "bjz76A01yS9F"
      },
      "source": [
        "svmClf =SVC(kernel='rbf', random_state=0, gamma=.01, C=1, probability=True)\n",
        "svmClf = train_classifier(svmClf, df_train[features], df_train[\"churn\"] )"
      ],
      "execution_count": null,
      "outputs": []
    },
    {
      "cell_type": "code",
      "metadata": {
        "id": "3C0E-icY_J50"
      },
      "source": [
        "mlpClf = MLPClassifier(solver='lbfgs',activation='relu', alpha=1e-5,\n",
        "                       hidden_layer_sizes=(10, 15, 10), random_state=1)\n",
        "mlpClf = train_classifier(mlpClf, df_train[features], df_train[\"churn\"] )"
      ],
      "execution_count": null,
      "outputs": []
    },
    {
      "cell_type": "markdown",
      "metadata": {
        "id": "fvU7pjp_yS9P"
      },
      "source": [
        "## Performing some predictions"
      ]
    },
    {
      "cell_type": "code",
      "metadata": {
        "id": "dvQl5Cl-yS9R"
      },
      "source": [
        "knnPreds, knnProbs = make_predictions(knnClf, df_test[features])\n",
        "randForestPreds, randForestProbs = make_predictions(randForestClf, df_test[features])\n",
        "svmPreds, svmProbs = make_predictions(svmClf, df_test[features])\n",
        "mlpPreds, mlpProbs = make_predictions(mlpClf, df_test[features])"
      ],
      "execution_count": null,
      "outputs": []
    },
    {
      "cell_type": "code",
      "metadata": {
        "id": "2-QOkshAyS9U",
        "colab": {
          "base_uri": "https://localhost:8080/",
          "height": 187
        },
        "outputId": "38bab9c8-41d5-4ca4-ed71-8318177315ec"
      },
      "source": [
        "print(\"knnPreds {} \\n\".format(knnPreds[0:10]))\n",
        "print(\"randForestPreds {} \\n\".format(randForestPreds[0:10]))\n",
        "print(\"svmPreds {} \\n\".format(svmPreds[0:10]))\n",
        "print(\"mlpPreds {} \\n\".format(mlpPreds[0:10]))\n",
        "print(\"Truth {} \\n\".format(df_train[\"churn\"].tolist()[0:10]))"
      ],
      "execution_count": null,
      "outputs": [
        {
          "output_type": "stream",
          "text": [
            "knnPreds [0 0 0 0 0 0 0 0 1 0] \n",
            "\n",
            "randForestPreds [0 0 0 0 0 0 0 0 1 0] \n",
            "\n",
            "svmPreds [0 0 0 0 0 0 0 0 1 0] \n",
            "\n",
            "mlpPreds [0 0 0 0 0 0 0 0 0 0] \n",
            "\n",
            "Truth [0, 0, 0, 0, 0, 0, 1, 0, 0, 0] \n",
            "\n"
          ],
          "name": "stdout"
        }
      ]
    },
    {
      "cell_type": "markdown",
      "metadata": {
        "id": "8KDEvDoayS9X"
      },
      "source": [
        "## Evaluating Classifiers "
      ]
    },
    {
      "cell_type": "code",
      "metadata": {
        "id": "6zHQLtDDyS9Y"
      },
      "source": [
        "knnEval = evaluate_clf(knnClf, df_test[features], df_test[\"churn\"])\n",
        "randForestEval = evaluate_clf(randForestClf, df_test[features], df_test[\"churn\"])\n",
        "svmEval = evaluate_clf(svmClf, df_test[features], df_test[\"churn\"])\n",
        "mlpEval = evaluate_clf(mlpClf, df_test[features], df_test[\"churn\"])\n"
      ],
      "execution_count": null,
      "outputs": []
    },
    {
      "cell_type": "code",
      "metadata": {
        "id": "KP5CuKVByS9b",
        "colab": {
          "base_uri": "https://localhost:8080/",
          "height": 85
        },
        "outputId": "fd1fc8e8-cc4d-4422-cd3b-a5acae29dad4"
      },
      "source": [
        "print(\"knnEval {}\".format(knnEval))\n",
        "print(\"randForestEval {}\".format(randForestEval))\n",
        "print(\"svmEval {}\".format(svmEval))\n",
        "print(\"mlpEval {}\".format(mlpEval))"
      ],
      "execution_count": null,
      "outputs": [
        {
          "output_type": "stream",
          "text": [
            "knnEval 0.8848\n",
            "randForestEval 0.9256\n",
            "svmEval 0.8912\n",
            "mlpEval 0.8488\n"
          ],
          "name": "stdout"
        }
      ]
    },
    {
      "cell_type": "markdown",
      "metadata": {
        "id": "NXXtQT1gE4KJ"
      },
      "source": [
        "### F1-Score\n"
      ]
    },
    {
      "cell_type": "code",
      "metadata": {
        "id": "A5W8pqa3CYyf",
        "colab": {
          "base_uri": "https://localhost:8080/",
          "height": 139
        },
        "outputId": "70373f70-e077-45ff-dce8-8d24ffdcff21"
      },
      "source": [
        "print(\"KNN F1-Score: {}\".format(f1_score(df_test[\"churn\"], knnClf.predict(df_test[features]))))\n",
        "print(\"Random Forest F1-Score: {}\".format(f1_score(df_test[\"churn\"], randForestClf.predict(df_test[features]))))\n",
        "print(\"SVM F1-Score: {}\".format(f1_score(df_test[\"churn\"], svmClf.predict(df_test[features]))))\n",
        "print(\"MLP F1-Score: {}\".format(f1_score(df_test[\"churn\"], mlpClf.predict(df_test[features]))))"
      ],
      "execution_count": null,
      "outputs": [
        {
          "output_type": "stream",
          "text": [
            "KNN F1-Score: 0.4049586776859504\n",
            "Random Forest F1-Score: 0.6950819672131148\n",
            "SVM F1-Score: 0.4687499999999999\n",
            "MLP F1-Score: 0.0\n"
          ],
          "name": "stdout"
        },
        {
          "output_type": "stream",
          "text": [
            "/usr/local/lib/python3.6/dist-packages/sklearn/metrics/classification.py:1437: UndefinedMetricWarning: F-score is ill-defined and being set to 0.0 due to no predicted samples.\n",
            "  'precision', 'predicted', average, warn_for)\n"
          ],
          "name": "stderr"
        }
      ]
    },
    {
      "cell_type": "markdown",
      "metadata": {
        "id": "uAKTrCZcE6aM"
      },
      "source": [
        "### ROC AUC Score\n"
      ]
    },
    {
      "cell_type": "code",
      "metadata": {
        "id": "nLV2aLnRDteq",
        "colab": {
          "base_uri": "https://localhost:8080/",
          "height": 85
        },
        "outputId": "725892fb-aeee-4062-8b26-6e95f2f70239"
      },
      "source": [
        "\n",
        "print(\"KNN ROC AUC Score: {}\".format(roc_auc_score(df_test[\"churn\"], knnClf.predict(df_test[features]))))\n",
        "print(\"Random Forest ROC AUC Score: {}\".format(roc_auc_score(df_test[\"churn\"], randForestClf.predict(df_test[features]))))\n",
        "print(\"SVM ROC AUC Score: {}\".format(roc_auc_score(df_test[\"churn\"], svmClf.predict(df_test[features]))))\n",
        "print(\"MLP ROC AUC Score: {}\".format(roc_auc_score(df_test[\"churn\"], mlpClf.predict(df_test[features]))))"
      ],
      "execution_count": null,
      "outputs": [
        {
          "output_type": "stream",
          "text": [
            "KNN ROC AUC Score: 0.6277446154920235\n",
            "Random Forest ROC AUC Score: 0.7757107450792654\n",
            "SVM ROC AUC Score: 0.6554313839893482\n",
            "MLP ROC AUC Score: 0.5\n"
          ],
          "name": "stdout"
        }
      ]
    },
    {
      "cell_type": "markdown",
      "metadata": {
        "id": "phAHxHUEE_sm"
      },
      "source": [
        "### Confusion Matrix"
      ]
    },
    {
      "cell_type": "code",
      "metadata": {
        "id": "pTrWRXHNyS9j",
        "colab": {
          "base_uri": "https://localhost:8080/",
          "height": 68
        },
        "outputId": "350bd0bb-d00b-4ad5-a59c-d15d7d89f85d"
      },
      "source": [
        "confMatKNN = get_confusion_matrix(df_test[\"churn\"], knnPreds)\n",
        "print(confMatKNN)"
      ],
      "execution_count": null,
      "outputs": [
        {
          "output_type": "stream",
          "text": [
            "              Predicted False  Predicted True\n",
            "Actual False             1057               4\n",
            "Actual True               140              49\n"
          ],
          "name": "stdout"
        }
      ]
    },
    {
      "cell_type": "code",
      "metadata": {
        "id": "HtqXHPs-yS9l",
        "colab": {
          "base_uri": "https://localhost:8080/",
          "height": 68
        },
        "outputId": "27d8a8da-328d-46c1-f371-53db5ed710b8"
      },
      "source": [
        "confMatrandForest = get_confusion_matrix(df_test[\"churn\"], randForestPreds)\n",
        "print(confMatrandForest)"
      ],
      "execution_count": null,
      "outputs": [
        {
          "output_type": "stream",
          "text": [
            "              Predicted False  Predicted True\n",
            "Actual False             1051              10\n",
            "Actual True                83             106\n"
          ],
          "name": "stdout"
        }
      ]
    },
    {
      "cell_type": "code",
      "metadata": {
        "id": "ag59DrJeyS9z",
        "colab": {
          "base_uri": "https://localhost:8080/",
          "height": 68
        },
        "outputId": "47d76c7d-5bfa-4017-f139-c1ea6b471849"
      },
      "source": [
        "confMatSVM= get_confusion_matrix(df_test[\"churn\"], svmPreds)\n",
        "print(confMatSVM)"
      ],
      "execution_count": null,
      "outputs": [
        {
          "output_type": "stream",
          "text": [
            "              Predicted False  Predicted True\n",
            "Actual False             1054               7\n",
            "Actual True               129              60\n"
          ],
          "name": "stdout"
        }
      ]
    },
    {
      "cell_type": "code",
      "metadata": {
        "id": "qrdeRXBdBlvQ",
        "colab": {
          "base_uri": "https://localhost:8080/",
          "height": 68
        },
        "outputId": "53b069a1-9bed-4c0f-a95f-d9510de01b2f"
      },
      "source": [
        "confMatMLP= get_confusion_matrix(df_test[\"churn\"], mlpPreds)\n",
        "print(confMatMLP)"
      ],
      "execution_count": null,
      "outputs": [
        {
          "output_type": "stream",
          "text": [
            "              Predicted False  Predicted True\n",
            "Actual False             1061               0\n",
            "Actual True               189               0\n"
          ],
          "name": "stdout"
        }
      ]
    },
    {
      "cell_type": "code",
      "metadata": {
        "id": "pqWHgYluyS95",
        "colab": {
          "base_uri": "https://localhost:8080/",
          "height": 295
        },
        "outputId": "5e0a66d6-c79f-4248-833b-229960c527fc"
      },
      "source": [
        "plot_roc_curve(df_test[\"churn\"], knnProbs)"
      ],
      "execution_count": null,
      "outputs": [
        {
          "output_type": "display_data",
          "data": {
            "image/png": "[encoded data removed]",
            "text/plain": [
              "<Figure size 432x288 with 1 Axes>"
            ]
          },
          "metadata": {
            "tags": []
          }
        }
      ]
    },
    {
      "cell_type": "code",
      "metadata": {
        "id": "vLLKzAY2yS9-",
        "colab": {
          "base_uri": "https://localhost:8080/",
          "height": 295
        },
        "outputId": "4424ca7b-234d-48b9-b7cc-779c27974170"
      },
      "source": [
        "plot_roc_curve(df_test[\"churn\"], randForestProbs)"
      ],
      "execution_count": null,
      "outputs": [
        {
          "output_type": "display_data",
          "data": {
            "image/png": "[encoded data removed]",
            "text/plain": [
              "<Figure size 432x288 with 1 Axes>"
            ]
          },
          "metadata": {
            "tags": []
          }
        }
      ]
    },
    {
      "cell_type": "code",
      "metadata": {
        "id": "fUr4Ci0uyS-H",
        "colab": {
          "base_uri": "https://localhost:8080/",
          "height": 295
        },
        "outputId": "8e469b4b-6707-40de-97fd-16ab38f1b16c"
      },
      "source": [
        "plot_roc_curve(df_test[\"churn\"], svmProbs)"
      ],
      "execution_count": null,
      "outputs": [
        {
          "output_type": "display_data",
          "data": {
            "image/png": "[encoded data removed]",
            "text/plain": [
              "<Figure size 432x288 with 1 Axes>"
            ]
          },
          "metadata": {
            "tags": []
          }
        }
      ]
    },
    {
      "cell_type": "code",
      "metadata": {
        "id": "TCPG73wEB-lx",
        "colab": {
          "base_uri": "https://localhost:8080/",
          "height": 295
        },
        "outputId": "12191a22-6144-41f2-8851-ace4c8bb54cb"
      },
      "source": [
        "plot_roc_curve(df_test[\"churn\"], mlpProbs)"
      ],
      "execution_count": null,
      "outputs": [
        {
          "output_type": "display_data",
          "data": {
            "image/png": "[encoded data removed]",
            "text/plain": [
              "<Figure size 432x288 with 1 Axes>"
            ]
          },
          "metadata": {
            "tags": []
          }
        }
      ]
    },
    {
      "cell_type": "code",
      "metadata": {
        "id": "_C2sAzHPyS-J",
        "colab": {
          "base_uri": "https://localhost:8080/",
          "height": 1000
        },
        "outputId": "e259df71-63f6-46c3-9c81-cf887bd067c1"
      },
      "source": [
        "plot_features_importance(randForestClf)"
      ],
      "execution_count": null,
      "outputs": [
        {
          "output_type": "display_data",
          "data": {
            "text/html": [
              "<div>\n",
              "<style scoped>\n",
              "    .dataframe tbody tr th:only-of-type {\n",
              "        vertical-align: middle;\n",
              "    }\n",
              "\n",
              "    .dataframe tbody tr th {\n",
              "        vertical-align: top;\n",
              "    }\n",
              "\n",
              "    .dataframe thead th {\n",
              "        text-align: right;\n",
              "    }\n",
              "</style>\n",
              "<table border=\"1\" class=\"dataframe\">\n",
              "  <thead>\n",
              "    <tr style=\"text-align: right;\">\n",
              "      <th></th>\n",
              "      <th>importance</th>\n",
              "      <th>labels</th>\n",
              "    </tr>\n",
              "  </thead>\n",
              "  <tbody>\n",
              "    <tr>\n",
              "      <th>2</th>\n",
              "      <td>0.324266</td>\n",
              "      <td>total_day_charge</td>\n",
              "    </tr>\n",
              "    <tr>\n",
              "      <th>3</th>\n",
              "      <td>0.174134</td>\n",
              "      <td>total_eve_charge</td>\n",
              "    </tr>\n",
              "    <tr>\n",
              "      <th>6</th>\n",
              "      <td>0.133962</td>\n",
              "      <td>number_customer_service_calls</td>\n",
              "    </tr>\n",
              "    <tr>\n",
              "      <th>4</th>\n",
              "      <td>0.116688</td>\n",
              "      <td>total_night_charge</td>\n",
              "    </tr>\n",
              "    <tr>\n",
              "      <th>5</th>\n",
              "      <td>0.098769</td>\n",
              "      <td>total_intl_charge</td>\n",
              "    </tr>\n",
              "  </tbody>\n",
              "</table>\n",
              "</div>"
            ],
            "text/plain": [
              "   importance                         labels\n",
              "2    0.324266               total_day_charge\n",
              "3    0.174134               total_eve_charge\n",
              "6    0.133962  number_customer_service_calls\n",
              "4    0.116688             total_night_charge\n",
              "5    0.098769              total_intl_charge"
            ]
          },
          "metadata": {
            "tags": []
          }
        },
        {
          "output_type": "display_data",
          "data": {
            "image/png": "[encoded data removed]",
            "text/plain": [
              "<Figure size 1440x1296 with 1 Axes>"
            ]
          },
          "metadata": {
            "tags": []
          }
        }
      ]
    },
    {
      "cell_type": "markdown",
      "metadata": {
        "id": "Vhr1hrsdyS-P"
      },
      "source": [
        "### How many customers have more than 90% chance of stop using my product?"
      ]
    },
    {
      "cell_type": "code",
      "metadata": {
        "id": "wnAYfjj5yS-Q",
        "colab": {
          "base_uri": "https://localhost:8080/",
          "height": 740
        },
        "outputId": "b9581b0c-54b3-4273-94f5-2b15f7f298b7"
      },
      "source": [
        "df_test[\"prob_true\"] = randForestProbs[:, 1]\n",
        "df_risky = df_test[df_test[\"prob_true\"] > 0.9]\n",
        "df_risky[[\"prob_true\"]]"
      ],
      "execution_count": null,
      "outputs": [
        {
          "output_type": "stream",
          "text": [
            "/usr/local/lib/python3.6/dist-packages/ipykernel_launcher.py:1: SettingWithCopyWarning: \n",
            "A value is trying to be set on a copy of a slice from a DataFrame.\n",
            "Try using .loc[row_indexer,col_indexer] = value instead\n",
            "\n",
            "See the caveats in the documentation: http://pandas.pydata.org/pandas-docs/stable/indexing.html#indexing-view-versus-copy\n",
            "  \"\"\"Entry point for launching an IPython kernel.\n"
          ],
          "name": "stderr"
        },
        {
          "output_type": "execute_result",
          "data": {
            "text/html": [
              "<div>\n",
              "<style scoped>\n",
              "    .dataframe tbody tr th:only-of-type {\n",
              "        vertical-align: middle;\n",
              "    }\n",
              "\n",
              "    .dataframe tbody tr th {\n",
              "        vertical-align: top;\n",
              "    }\n",
              "\n",
              "    .dataframe thead th {\n",
              "        text-align: right;\n",
              "    }\n",
              "</style>\n",
              "<table border=\"1\" class=\"dataframe\">\n",
              "  <thead>\n",
              "    <tr style=\"text-align: right;\">\n",
              "      <th></th>\n",
              "      <th>prob_true</th>\n",
              "    </tr>\n",
              "  </thead>\n",
              "  <tbody>\n",
              "    <tr>\n",
              "      <th>894</th>\n",
              "      <td>1.000000</td>\n",
              "    </tr>\n",
              "    <tr>\n",
              "      <th>1593</th>\n",
              "      <td>0.966667</td>\n",
              "    </tr>\n",
              "    <tr>\n",
              "      <th>349</th>\n",
              "      <td>1.000000</td>\n",
              "    </tr>\n",
              "    <tr>\n",
              "      <th>3686</th>\n",
              "      <td>0.966667</td>\n",
              "    </tr>\n",
              "    <tr>\n",
              "      <th>3373</th>\n",
              "      <td>0.933333</td>\n",
              "    </tr>\n",
              "    <tr>\n",
              "      <th>1691</th>\n",
              "      <td>0.933333</td>\n",
              "    </tr>\n",
              "    <tr>\n",
              "      <th>76</th>\n",
              "      <td>0.966667</td>\n",
              "    </tr>\n",
              "    <tr>\n",
              "      <th>2388</th>\n",
              "      <td>0.966667</td>\n",
              "    </tr>\n",
              "    <tr>\n",
              "      <th>4264</th>\n",
              "      <td>0.966667</td>\n",
              "    </tr>\n",
              "    <tr>\n",
              "      <th>3901</th>\n",
              "      <td>0.966667</td>\n",
              "    </tr>\n",
              "    <tr>\n",
              "      <th>3987</th>\n",
              "      <td>1.000000</td>\n",
              "    </tr>\n",
              "    <tr>\n",
              "      <th>2112</th>\n",
              "      <td>0.933333</td>\n",
              "    </tr>\n",
              "    <tr>\n",
              "      <th>1919</th>\n",
              "      <td>0.933333</td>\n",
              "    </tr>\n",
              "    <tr>\n",
              "      <th>2354</th>\n",
              "      <td>0.933333</td>\n",
              "    </tr>\n",
              "    <tr>\n",
              "      <th>1713</th>\n",
              "      <td>0.966667</td>\n",
              "    </tr>\n",
              "    <tr>\n",
              "      <th>2824</th>\n",
              "      <td>0.966667</td>\n",
              "    </tr>\n",
              "    <tr>\n",
              "      <th>4638</th>\n",
              "      <td>0.933333</td>\n",
              "    </tr>\n",
              "    <tr>\n",
              "      <th>1345</th>\n",
              "      <td>0.933333</td>\n",
              "    </tr>\n",
              "    <tr>\n",
              "      <th>4788</th>\n",
              "      <td>0.933333</td>\n",
              "    </tr>\n",
              "  </tbody>\n",
              "</table>\n",
              "</div>"
            ],
            "text/plain": [
              "      prob_true\n",
              "894    1.000000\n",
              "1593   0.966667\n",
              "349    1.000000\n",
              "3686   0.966667\n",
              "3373   0.933333\n",
              "1691   0.933333\n",
              "76     0.966667\n",
              "2388   0.966667\n",
              "4264   0.966667\n",
              "3901   0.966667\n",
              "3987   1.000000\n",
              "2112   0.933333\n",
              "1919   0.933333\n",
              "2354   0.933333\n",
              "1713   0.966667\n",
              "2824   0.966667\n",
              "4638   0.933333\n",
              "1345   0.933333\n",
              "4788   0.933333"
            ]
          },
          "metadata": {
            "tags": []
          },
          "execution_count": 37
        }
      ]
    },
    {
      "cell_type": "code",
      "metadata": {
        "id": "tBm8Y7pRyS-V",
        "colab": {
          "base_uri": "https://localhost:8080/",
          "height": 34
        },
        "outputId": "be3783cf-9305-4cd5-9b8a-4058968a2e4e"
      },
      "source": [
        "df_risky.shape"
      ],
      "execution_count": null,
      "outputs": [
        {
          "output_type": "execute_result",
          "data": {
            "text/plain": [
              "(19, 9)"
            ]
          },
          "metadata": {
            "tags": []
          },
          "execution_count": 38
        }
      ]
    },
    {
      "cell_type": "code",
      "metadata": {
        "id": "zgN2gr6ByS-b",
        "colab": {
          "base_uri": "https://localhost:8080/",
          "height": 170
        },
        "outputId": "df6a9d10-8c5e-4e68-8b34-60d37b287e32"
      },
      "source": [
        "df.iloc[365]"
      ],
      "execution_count": null,
      "outputs": [
        {
          "output_type": "execute_result",
          "data": {
            "text/plain": [
              "account_length                   154.00\n",
              "number_vmail_messages              0.00\n",
              "total_day_charge                  59.64\n",
              "total_eve_charge                  18.40\n",
              "total_night_charge                11.43\n",
              "total_intl_charge                  2.73\n",
              "number_customer_service_calls      1.00\n",
              "churn                              1.00\n",
              "Name: 365, dtype: float64"
            ]
          },
          "metadata": {
            "tags": []
          },
          "execution_count": 39
        }
      ]
    },
    {
      "cell_type": "code",
      "metadata": {
        "id": "M3A_DLz9yS-f"
      },
      "source": [
        ""
      ],
      "execution_count": null,
      "outputs": []
    }
  ]
}